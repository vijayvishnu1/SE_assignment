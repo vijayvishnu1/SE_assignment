{
  "nbformat": 4,
  "nbformat_minor": 0,
  "metadata": {
    "colab": {
      "name": "25-aug-2022.ipynb",
      "provenance": [],
      "collapsed_sections": [],
      "authorship_tag": "ABX9TyMZt+6G6qcN/ZFIMineeCnB",
      "include_colab_link": true
    },
    "kernelspec": {
      "name": "python3",
      "display_name": "Python 3"
    },
    "language_info": {
      "name": "python"
    }
  },
  "cells": [
    {
      "cell_type": "markdown",
      "metadata": {
        "id": "view-in-github",
        "colab_type": "text"
      },
      "source": [
        "<a href=\"https://colab.research.google.com/github/vijayvishnu1/SE_assignment/blob/br2/25_aug_2022.ipynb\" target=\"_parent\"><img src=\"https://colab.research.google.com/assets/colab-badge.svg\" alt=\"Open In Colab\"/></a>"
      ]
    },
    {
      "cell_type": "markdown",
      "source": [
        "1.How to create Series with nd array"
      ],
      "metadata": {
        "id": "s6urNq168yHh"
      }
    },
    {
      "cell_type": "code",
      "source": [
        "import pandas as pd \n",
        "import numpy as np\n",
        "arr=np.array([110,15,20,25])\n",
        "s=pd.Series(arr)\n",
        "print (s)"
      ],
      "metadata": {
        "colab": {
          "base_uri": "https://localhost:8080/"
        },
        "id": "NQxFbtGz8xbT",
        "outputId": "ddbcbd2b-1945-4d65-9e50-e6e4ebd20bba"
      },
      "execution_count": 1,
      "outputs": [
        {
          "output_type": "stream",
          "name": "stdout",
          "text": [
            "0    110\n",
            "1     15\n",
            "2     20\n",
            "3     25\n",
            "dtype: int64\n"
          ]
        }
      ]
    },
    {
      "cell_type": "markdown",
      "source": [
        "2.How to create Series with Mutable index"
      ],
      "metadata": {
        "id": "Vfs0SkoVQjZ6"
      }
    },
    {
      "cell_type": "code",
      "source": [
        "import pandas as pd\n",
        "import numpy as np\n",
        "arr=np.array(['a','b','c','d'])\n",
        "s=pd.Series(arr, index=['first','second','third','fourth'])\n",
        "print(s)"
      ],
      "metadata": {
        "colab": {
          "base_uri": "https://localhost:8080/"
        },
        "id": "GbVSZFkLIVCT",
        "outputId": "df41f552-47dd-4b3e-8d39-ebb64a71dd0c"
      },
      "execution_count": null,
      "outputs": [
        {
          "output_type": "stream",
          "name": "stdout",
          "text": [
            "first     a\n",
            "second    b\n",
            "third     c\n",
            "fourth    d\n",
            "dtype: object\n"
          ]
        }
      ]
    },
    {
      "cell_type": "markdown",
      "source": [
        "3.Creating a series from a Dictionary"
      ],
      "metadata": {
        "id": "IkMuephzR0hA"
      }
    },
    {
      "cell_type": "code",
      "source": [
        "import pandas as pd\n",
        "d = {'name':'hardik','iplteam':'mi','runs' :1500}\n",
        "s = pd.Series(d)\n",
        "print(s)"
      ],
      "metadata": {
        "colab": {
          "base_uri": "https://localhost:8080/"
        },
        "id": "IxqMN2PMJ-wO",
        "outputId": "109915b5-af29-41d1-f159-cc3761443014"
      },
      "execution_count": null,
      "outputs": [
        {
          "output_type": "stream",
          "name": "stdout",
          "text": [
            "name       hardik\n",
            "iplteam        mi\n",
            "runs         1500\n",
            "dtype: object\n"
          ]
        }
      ]
    },
    {
      "cell_type": "markdown",
      "source": [
        "4. Print all the values of the Series by multiplying them by 2.\n",
        "5. Print Square of all the values of the series.\n",
        "6. Print all the values of the Series that are greater than2"
      ],
      "metadata": {
        "id": "deaJWza-Suvh"
      }
    },
    {
      "cell_type": "code",
      "source": [
        "import pandas as pd\n",
        "s=pd.Series([1,2,3,4,5])\n",
        "print('to multiply all the value in a series by 2')\n",
        "print('------------------------------------------')\n",
        "print(s*2)\n",
        "print('to find the square of a;ll the values in a series')\n",
        "print('-------------------------------------------')\n",
        "print(s**2)\n",
        "print('to print all the values in a series that are greater than 2')\n",
        "print('-----------------------------------------------')\n",
        "print(s[s>2])"
      ],
      "metadata": {
        "colab": {
          "base_uri": "https://localhost:8080/"
        },
        "id": "WAX8ITuNKsTf",
        "outputId": "c9328980-1fc5-4815-aaa5-6ab34f0570f7"
      },
      "execution_count": null,
      "outputs": [
        {
          "output_type": "stream",
          "name": "stdout",
          "text": [
            "to multiply all the value in a series by 2\n",
            "------------------------------------------\n",
            "0     2\n",
            "1     4\n",
            "2     6\n",
            "3     8\n",
            "4    10\n",
            "dtype: int64\n",
            "to find the square of a;ll the values in a series\n",
            "-------------------------------------------\n",
            "0     1\n",
            "1     4\n",
            "2     9\n",
            "3    16\n",
            "4    25\n",
            "dtype: int64\n",
            "to print all the values in a series that are greater than 2\n",
            "-----------------------------------------------\n",
            "2    3\n",
            "3    4\n",
            "4    5\n",
            "dtype: int64\n"
          ]
        }
      ]
    },
    {
      "cell_type": "markdown",
      "source": [
        "7. Addition of two series"
      ],
      "metadata": {
        "id": "UjEw1LmPVEKm"
      }
    },
    {
      "cell_type": "code",
      "source": [
        "import pandas as pd\n",
        "s1=pd.Series([1,2,3,4,5],index=['a','b','c','d','e'])\n",
        "s2=pd.Series([10,20,30,40,50],index=['a','b','c','d','e'])\n",
        "s3=pd.Series([5,14,23,32],index=['a','b','c','d'])\n",
        "print('to add series 1 and series2')\n",
        "print('-------------------------------------------')\n",
        "print(s1+s2)\n",
        "print('to add series1 and series2')\n",
        "print(s2+s3)\n",
        "print('to add series2 and series3 and filled non matching index with 0')\n",
        "print('-----------------------------------------------')\n",
        "print(s2.add(s3,fill_value=0))"
      ],
      "metadata": {
        "colab": {
          "base_uri": "https://localhost:8080/"
        },
        "id": "UkM1eO-TMtAd",
        "outputId": "4a0b4f5a-0517-40e0-8dc1-18cee07609b9"
      },
      "execution_count": null,
      "outputs": [
        {
          "output_type": "stream",
          "name": "stdout",
          "text": [
            "to add series 1 and series2\n",
            "-------------------------------------------\n",
            "a    11\n",
            "b    22\n",
            "c    33\n",
            "d    44\n",
            "e    55\n",
            "dtype: int64\n",
            "to add series1 and series2\n",
            "a    15.0\n",
            "b    34.0\n",
            "c    53.0\n",
            "d    72.0\n",
            "e     NaN\n",
            "dtype: float64\n",
            "to add series2 and series3 and filled non matching index with 0\n",
            "-----------------------------------------------\n",
            "a    15.0\n",
            "b    34.0\n",
            "c    53.0\n",
            "d    72.0\n",
            "e    50.0\n",
            "dtype: float64\n"
          ]
        }
      ]
    },
    {
      "cell_type": "markdown",
      "source": [
        "8. Print the first and last 5 elements of a series"
      ],
      "metadata": {
        "id": "aVxnHrxrVSOU"
      }
    },
    {
      "cell_type": "code",
      "source": [
        "import pandas as pd\n",
        "import numpy as np\n",
        "arr=np.array([10,11,12,13,14,15,16,17,18,19,20,21,22,23,24,25])\n",
        "s = pd.Series(arr)\n",
        "print('the first 5 lements of series')\n",
        "print (s.head())\n",
        "print('the last 5 lements of series')\n",
        "print (s.tail())"
      ],
      "metadata": {
        "colab": {
          "base_uri": "https://localhost:8080/"
        },
        "id": "d7cDZnKpVRRE",
        "outputId": "112f3113-c2a0-417c-f58a-8ffde52ac9cb"
      },
      "execution_count": null,
      "outputs": [
        {
          "output_type": "stream",
          "name": "stdout",
          "text": [
            "the first 5 lements of series\n",
            "0    10\n",
            "1    11\n",
            "2    12\n",
            "3    13\n",
            "4    14\n",
            "dtype: int64\n",
            "the last 5 lements of series\n",
            "11    21\n",
            "12    22\n",
            "13    23\n",
            "14    24\n",
            "15    25\n",
            "dtype: int64\n"
          ]
        }
      ]
    },
    {
      "cell_type": "markdown",
      "source": [
        "9. Print the values from index 0 to 5"
      ],
      "metadata": {
        "id": "OwChp4klVYgB"
      }
    },
    {
      "cell_type": "code",
      "source": [
        "import pandas as pd\n",
        "import numpy as np\n",
        "arr=np.array([10,11,12,13,14,15,16,17,18,19,20,21,22,23,24,25])\n",
        "s = pd.Series(arr)\n",
        "print(s)\n",
        "print('the lements from 0 to 5 loc in the  series')\n",
        "print (s.loc[0:5])\n"
      ],
      "metadata": {
        "colab": {
          "base_uri": "https://localhost:8080/"
        },
        "id": "2Z85qKk1VbnJ",
        "outputId": "67756f09-d0fb-46f0-b2e5-f9faf9c12f83"
      },
      "execution_count": null,
      "outputs": [
        {
          "output_type": "stream",
          "name": "stdout",
          "text": [
            "0     10\n",
            "1     11\n",
            "2     12\n",
            "3     13\n",
            "4     14\n",
            "5     15\n",
            "6     16\n",
            "7     17\n",
            "8     18\n",
            "9     19\n",
            "10    20\n",
            "11    21\n",
            "12    22\n",
            "13    23\n",
            "14    24\n",
            "15    25\n",
            "dtype: int64\n",
            "the lements from 0 to 5 loc in the  series\n",
            "0    10\n",
            "1    11\n",
            "2    12\n",
            "3    13\n",
            "4    14\n",
            "5    15\n",
            "dtype: int64\n"
          ]
        }
      ]
    },
    {
      "cell_type": "markdown",
      "source": [
        "10. Selection Using loc, iloc index label"
      ],
      "metadata": {
        "id": "-zHJHcdzVcfp"
      }
    },
    {
      "cell_type": "code",
      "source": [
        "import pandas as pd\n",
        "import numpy as np\n",
        "arr=np.array([10,11,12,13,14,15,16,17,18,19,20,21,22,23,24,25])\n",
        "s = pd.Series(arr)\n",
        "print(s)\n",
        "print('the lements from 0 to 5 loc in the  series using iloc')\n",
        "print (s.iloc[0:5])\n",
        "print('the lements from 0 to 5 loc in the  series using loc')\n",
        "print (s.loc[0:5])\n"
      ],
      "metadata": {
        "colab": {
          "base_uri": "https://localhost:8080/"
        },
        "id": "XonW-dv_VfNa",
        "outputId": "9f1c8fce-84d4-4c6b-e946-03fbc1b44e4a"
      },
      "execution_count": null,
      "outputs": [
        {
          "output_type": "stream",
          "name": "stdout",
          "text": [
            "0     10\n",
            "1     11\n",
            "2     12\n",
            "3     13\n",
            "4     14\n",
            "5     15\n",
            "6     16\n",
            "7     17\n",
            "8     18\n",
            "9     19\n",
            "10    20\n",
            "11    21\n",
            "12    22\n",
            "13    23\n",
            "14    24\n",
            "15    25\n",
            "dtype: int64\n",
            "the lements from 0 to 5 loc in the  series using iloc\n",
            "0    10\n",
            "1    11\n",
            "2    12\n",
            "3    13\n",
            "4    14\n",
            "dtype: int64\n",
            "the lements from 0 to 5 loc in the  series using loc\n",
            "0    10\n",
            "1    11\n",
            "2    12\n",
            "3    13\n",
            "4    14\n",
            "5    15\n",
            "dtype: int64\n"
          ]
        }
      ]
    },
    {
      "cell_type": "markdown",
      "source": [
        "11. Retrieve subsets of data using slicing"
      ],
      "metadata": {
        "id": "Te1TCJAmVfiZ"
      }
    },
    {
      "cell_type": "code",
      "source": [
        "import pandas as pd\n",
        "import numpy as np\n",
        "arr=np.array([10,15,18,22,55,77])\n",
        "s = pd.Series(arr,index=['a','b','c','d','e','f'])\n",
        "print(s)\n",
        "print(s[1:5:2])\n",
        "#[start:end:step]"
      ],
      "metadata": {
        "colab": {
          "base_uri": "https://localhost:8080/"
        },
        "id": "As7kc2jtViWB",
        "outputId": "1de6affe-fbb5-4b6b-c890-133100aecab6"
      },
      "execution_count": null,
      "outputs": [
        {
          "output_type": "stream",
          "name": "stdout",
          "text": [
            "a    10\n",
            "b    15\n",
            "c    18\n",
            "d    22\n",
            "e    55\n",
            "f    77\n",
            "dtype: int64\n",
            "b    15\n",
            "d    22\n",
            "dtype: int64\n"
          ]
        }
      ]
    }
  ]
}